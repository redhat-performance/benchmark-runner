{
 "cells": [
  {
   "cell_type": "markdown",
   "id": "c162d408-7aaf-459c-88a2-2292b9aeeadc",
   "metadata": {
    "tags": []
   },
   "source": [
    "# Update Summary Report HTML version"
   ]
  },
  {
   "cell_type": "markdown",
   "id": "af1bc279-5f49-4e48-afc9-c9e4c5a566db",
   "metadata": {
    "tags": []
   },
   "source": [
    "## Prerequsite "
   ]
  },
  {
   "cell_type": "code",
   "execution_count": null,
   "id": "9892204d-7c2d-4c9f-9de0-8590e0c6bc4f",
   "metadata": {
    "scrolled": true,
    "tags": []
   },
   "outputs": [],
   "source": [
    "\n",
    "# SET log level\n",
    "# logging\n",
    "import logging\n",
    "logger = logging.getLogger()\n",
    "logger.setLevel(logging.WARN)\n",
    "logging.info(\"Prerequisite\")\n",
    "\n",
    "import ipywidgets as widgets\n",
    "from IPython.display import display, HTML\n",
    "import os\n",
    "import configparser\n",
    "config = configparser.ConfigParser()\n",
    "config.read('data.conf')\n",
    "es_host = config.get(\"data\", 'es_host') \n",
    "es_port = config.get(\"data\", 'es_port')\n",
    "es_user = config.get(\"data\", 'es_user') \n",
    "es_password = config.get(\"data\", 'es_password')\n",
    "grafana_url = config.get(\"data\", 'grafana_url')\n",
    "os.environ['network_speed'] = config.get(\"data\", 'network_speed')\n",
    "os.environ['fetch_ocp_versions_days'] = config.get(\"data\", 'fetch_ocp_versions_days')\n",
    "os.environ['filter_kind'] = config.get(\"data\", 'filter_kind')\n",
    "\n",
    "from benchmark_runner.common.elasticsearch.elasticsearch_operations import ElasticSearchOperations\n",
    "from benchmark_runner.jupyterlab.templates.summary_report.summary_report_widgets import SummaryReportWidgets\n",
    "\n",
    "elasticsearch = ElasticSearchOperations(es_host=es_host, es_port=es_port, es_user=es_user, es_password=es_password)\n",
    "summary_report_widget = SummaryReportWidgets(elasticsearch=elasticsearch)\n",
    "\n",
    "# Default 365 days for ocp version fetch days \n",
    "summary_report_widget.set_fetch_ocp_version_days(num_fetch_days=int(os.environ['fetch_ocp_versions_days']))\n"
   ]
  },
  {
   "cell_type": "markdown",
   "id": "f7fbaa0a-c144-45dc-8706-09447d7f4370",
   "metadata": {
    "tags": []
   },
   "source": [
    "## Update file name with 2 last versions comparison"
   ]
  },
  {
   "cell_type": "code",
   "execution_count": null,
   "id": "1dda58b0-ddce-456e-81cb-ea6abe7d0ea1",
   "metadata": {},
   "outputs": [],
   "source": [
    "import os\n",
    "versions = summary_report_widget.get_two_last_major_versions()\n",
    "os.rename('summary_report.html', f'summary_report_{versions[0]}_{versions[1]}.html')"
   ]
  }
 ],
 "metadata": {
  "kernelspec": {
   "display_name": "Python 3 (ipykernel)",
   "language": "python",
   "name": "python3"
  },
  "language_info": {
   "codemirror_mode": {
    "name": "ipython",
    "version": 3
   },
   "file_extension": ".py",
   "mimetype": "text/x-python",
   "name": "python",
   "nbconvert_exporter": "python",
   "pygments_lexer": "ipython3",
   "version": "3.11.7"
  },
  "widgets": {
   "application/vnd.jupyter.widget-state+json": {
    "state": {
     "1d02603bc9a04a3cb76843046edb424f": {
      "model_module": "@jupyter-widgets/controls",
      "model_module_version": "2.0.0",
      "model_name": "SelectMultipleModel",
      "state": {
       "_dom_classes": [],
       "_model_module": "@jupyter-widgets/controls",
       "_model_module_version": "2.0.0",
       "_model_name": "SelectMultipleModel",
       "_options_labels": [
        "4.14.8",
        "4.14.7",
        "4.14.6",
        "4.14.5",
        "4.14.4",
        "4.14.3",
        "4.14.1",
        "4.14.0-rc.7",
        "4.14.0-rc.6",
        "4.14.0-rc.4",
        "4.14.0-rc.2",
        "4.14.0-rc.1",
        "4.13.9",
        "4.13.8",
        "4.13.7",
        "4.13.6",
        "4.13.4",
        "4.13.3",
        "4.13.2",
        "4.13.13",
        "4.13.12",
        "4.13.11",
        "4.13.10",
        "4.13.1",
        "4.13.0-rc.8",
        "4.13.0-rc.7",
        "4.13.0-rc.5",
        "4.13.0-rc.4",
        "4.13.0-ec.4",
        "4.13.0-ec.3",
        "4.13.0",
        "4.12.5",
        "4.12.4",
        "4.12.2",
        "4.12.1",
        "4.12.0-rc.8",
        "4.12.0"
       ],
       "_view_count": null,
       "_view_module": "@jupyter-widgets/controls",
       "_view_module_version": "2.0.0",
       "_view_name": "SelectMultipleView",
       "description": "",
       "description_allow_html": false,
       "disabled": false,
       "index": [
        19,
        0
       ],
       "layout": "IPY_MODEL_a0f3309708b44681ad6474210415d985",
       "rows": 5,
       "style": "IPY_MODEL_df316759fd524306ac90c94ce66fef90",
       "tabbable": null,
       "tooltip": null
      }
     },
     "a0f3309708b44681ad6474210415d985": {
      "model_module": "@jupyter-widgets/base",
      "model_module_version": "2.0.0",
      "model_name": "LayoutModel",
      "state": {
       "_model_module": "@jupyter-widgets/base",
       "_model_module_version": "2.0.0",
       "_model_name": "LayoutModel",
       "_view_count": null,
       "_view_module": "@jupyter-widgets/base",
       "_view_module_version": "2.0.0",
       "_view_name": "LayoutView",
       "align_content": null,
       "align_items": null,
       "align_self": null,
       "border_bottom": null,
       "border_left": null,
       "border_right": null,
       "border_top": null,
       "bottom": null,
       "display": null,
       "flex": null,
       "flex_flow": null,
       "grid_area": null,
       "grid_auto_columns": null,
       "grid_auto_flow": null,
       "grid_auto_rows": null,
       "grid_column": null,
       "grid_gap": null,
       "grid_row": null,
       "grid_template_areas": null,
       "grid_template_columns": null,
       "grid_template_rows": null,
       "height": "300px",
       "justify_content": null,
       "justify_items": null,
       "left": null,
       "margin": null,
       "max_height": null,
       "max_width": null,
       "min_height": null,
       "min_width": null,
       "object_fit": null,
       "object_position": null,
       "order": null,
       "overflow": null,
       "padding": null,
       "right": null,
       "top": null,
       "visibility": null,
       "width": null
      }
     },
     "df316759fd524306ac90c94ce66fef90": {
      "model_module": "@jupyter-widgets/controls",
      "model_module_version": "2.0.0",
      "model_name": "DescriptionStyleModel",
      "state": {
       "_model_module": "@jupyter-widgets/controls",
       "_model_module_version": "2.0.0",
       "_model_name": "DescriptionStyleModel",
       "_view_count": null,
       "_view_module": "@jupyter-widgets/base",
       "_view_module_version": "2.0.0",
       "_view_name": "StyleView",
       "description_width": ""
      }
     }
    },
    "version_major": 2,
    "version_minor": 0
   }
  }
 },
 "nbformat": 4,
 "nbformat_minor": 5
}
