{
 "cells": [
  {
   "cell_type": "code",
   "execution_count": null,
   "id": "3522b0ae-9025-42ca-8b46-6e552026b453",
   "metadata": {
    "tags": []
   },
   "outputs": [],
   "source": [
    "from IPython.display import Image\n",
    "Image(filename='prometheus.png',width=150, height=150)"
   ]
  },
  {
   "cell_type": "markdown",
   "id": "229301c4-12c7-4c96-ad54-ce612c15ab14",
   "metadata": {
    "tags": []
   },
   "source": [
    "# Analyze Prometheus Logs"
   ]
  },
  {
   "cell_type": "raw",
   "id": "6b62bbc2-6d2b-4b01-be87-9c558d13a4e5",
   "metadata": {
    "tags": []
   },
   "source": [
    "This notebook performs the following tasks:\n",
    "\n",
    "1. Downloads Prometheus logs from an S3 bucket.\n",
    "2. Runs a Prometheus container using PromDB.\n",
    "3. Displays the data in a Grafana Node Selector dashboard.\n",
    "\n",
    "Please paste the S3_LOGS_URL in the designated field and click the '>>' button to proceed."
   ]
  },
  {
   "cell_type": "code",
   "execution_count": null,
   "id": "df0f4f48-9431-4cec-8ef0-26fe7197e30d",
   "metadata": {
    "tags": []
   },
   "outputs": [],
   "source": [
    "S3_LOGS_URL = ''"
   ]
  },
  {
   "cell_type": "raw",
   "id": "44342331-2739-4f4c-b899-38316b4e5ec7",
   "metadata": {
    "tags": []
   },
   "source": [
    "*** IMPORTANT >>> Not Change BELOW ***"
   ]
  },
  {
   "cell_type": "code",
   "execution_count": null,
   "id": "0f08c6e8-b608-4f80-99a1-c0a1b7c57907",
   "metadata": {
    "tags": []
   },
   "outputs": [],
   "source": [
    "# verify that S3_LOGS_URL is not empty\n",
    "import sys\n",
    "from IPython.display import display, Javascript\n",
    "\n",
    "if not S3_LOGS_URL:\n",
    "    display(Javascript('alert(\"Enter S3_LOGS_URL, click >> button\")'))\n",
    "    sys.exit()"
   ]
  },
  {
   "cell_type": "markdown",
   "id": "eccfe941-8579-4162-8659-18e0770841f2",
   "metadata": {
    "tags": []
   },
   "source": [
    "## Prerequsite "
   ]
  },
  {
   "cell_type": "code",
   "execution_count": null,
   "id": "68c93ddc-3a32-4220-a0ad-852437161e06",
   "metadata": {
    "tags": []
   },
   "outputs": [],
   "source": [
    "\n",
    "# SET log level\n",
    "# logging\n",
    "import logging\n",
    "logger = logging.getLogger()\n",
    "logger.setLevel(logging.WARN)\n",
    "logging.info(\"Prerequisite\")\n",
    "\n",
    "# extract credentials\n",
    "import configparser\n",
    "config = configparser.ConfigParser()\n",
    "config.read('logs.conf')\n",
    "username = config.get(\"data\", 'user') \n",
    "password = config.get(\"data\", 'password')\n",
    "grafana_dashboard_url = config.get(\"data\", 'grafana_dashboard_url')\n",
    "\n",
    "\n",
    "# Update fedora\n",
    "!dnf update -y\n",
    "\n",
    "# Logs operations\n",
    "from benchmark_runner.jupyterlab.templates.logs_operations.logs_operations import LogsOperations\n",
    "logs_operations = LogsOperations(s3_logs_url=S3_LOGS_URL)\n",
    "# Logs cleanup\n",
    "logs_operations.cleanup()\n",
    "\n",
    "# Import AnalyzePrometheusLogs class and initialized\n",
    "from benchmark_runner.jupyterlab.templates.analyze_prometheus_logs.analyze_prometheus_logs import AnalyzePrometheusLogs\n",
    "analyze_prometheus_logs = AnalyzePrometheusLogs(s3_logs_url=S3_LOGS_URL)\n"
   ]
  },
  {
   "cell_type": "markdown",
   "id": "14bb4d5f-be6b-4020-851c-74ce24a7aacd",
   "metadata": {
    "tags": []
   },
   "source": [
    "## Download S3 logs"
   ]
  },
  {
   "cell_type": "code",
   "execution_count": null,
   "id": "2fa85cf3-3286-4467-b988-8fa0f5879683",
   "metadata": {},
   "outputs": [],
   "source": [
    "logs_operations.download_s3_logs(username=username, password=password)"
   ]
  },
  {
   "cell_type": "markdown",
   "id": "5fdc7609-326b-499b-b10d-5db5fb751301",
   "metadata": {
    "tags": []
   },
   "source": [
    "## Untar prometheus logs & chmod "
   ]
  },
  {
   "cell_type": "code",
   "execution_count": null,
   "id": "3d3f094f-e42e-4b77-9056-e0b6da345d61",
   "metadata": {},
   "outputs": [],
   "source": [
    "promdb_dir_path = analyze_prometheus_logs.untar_and_chmod_prometheus_logs()"
   ]
  },
  {
   "cell_type": "markdown",
   "id": "0fc285eb-a883-4feb-9fe2-98e0f1c07897",
   "metadata": {
    "tags": []
   },
   "source": [
    "## Run Prometheus container "
   ]
  },
  {
   "cell_type": "code",
   "execution_count": null,
   "id": "3b7ba43e-0d99-4b03-b5c7-85beb4694708",
   "metadata": {},
   "outputs": [],
   "source": [
    "analyze_prometheus_logs.run_container(image_name='prometheus', command=f\"-d -uroot --ipc=host --pid=host --net=host -v /sys:/sys -v /proc:/proc -v /dev:/dev -v {promdb_dir_path}:/prometheus --privileged docker.io/prom/prometheus:latest --config.file=/etc/prometheus/prometheus.yml --storage.tsdb.path=/prometheus --storage.tsdb.retention.time=100000d --storage.tsdb.retention.size=1000GB\")"
   ]
  },
  {
   "cell_type": "markdown",
   "id": "a6847b88-2bbb-43d3-9cf2-988d1e42b66d",
   "metadata": {
    "tags": []
   },
   "source": [
    "## Result: Grafana direct link"
   ]
  },
  {
   "cell_type": "code",
   "execution_count": null,
   "id": "e921a4e2-6192-4640-8bb9-32dc9ce42f66",
   "metadata": {},
   "outputs": [],
   "source": [
    "analyze_prometheus_logs.open_grafana_dashboard(promdb_dir_path=promdb_dir_path, grafana_dashboard_url=grafana_dashboard_url)"
   ]
  },
  {
   "cell_type": "code",
   "execution_count": null,
   "id": "f8cc8ee5-90f2-4595-88f5-0396812cb8c2",
   "metadata": {},
   "outputs": [],
   "source": []
  }
 ],
 "metadata": {
  "kernelspec": {
   "display_name": "Python 3 (ipykernel)",
   "language": "python",
   "name": "python3"
  },
  "language_info": {
   "codemirror_mode": {
    "name": "ipython",
    "version": 3
   },
   "file_extension": ".py",
   "mimetype": "text/x-python",
   "name": "python",
   "nbconvert_exporter": "python",
   "pygments_lexer": "ipython3",
   "version": "3.11.3"
  }
 },
 "nbformat": 4,
 "nbformat_minor": 5
}
