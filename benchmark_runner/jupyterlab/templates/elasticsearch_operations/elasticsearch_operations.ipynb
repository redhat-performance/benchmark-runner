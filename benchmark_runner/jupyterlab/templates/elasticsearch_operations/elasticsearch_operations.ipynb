{
 "cells": [
  {
   "cell_type": "code",
   "execution_count": null,
   "id": "9ed205d0-41f4-45f0-88e3-155fc1c0e72c",
   "metadata": {
    "tags": []
   },
   "outputs": [],
   "source": [
    "from IPython.display import Image\n",
    "Image(filename='elasticsearch.png',width=150, height=150)"
   ]
  },
  {
   "cell_type": "markdown",
   "id": "c162d408-7aaf-459c-88a2-2292b9aeeadc",
   "metadata": {
    "tags": []
   },
   "source": [
    "# ElasticSearch Operations"
   ]
  },
  {
   "cell_type": "raw",
   "id": "14a344ae-ba02-4690-9656-ebb13db1d5be",
   "metadata": {},
   "source": [
    "This notebook is designed for performing Elasticsearch operations. Here are the steps to follow:\n",
    "\n",
    "1. Run all the cells above the \"<< RUN ALL ABOVE TILL HERE >>\" marker.\n",
    "2. Select the desired index and specify the date range for Elasticsearch operations.\n",
    "3. Run the Elasticsearch operation cells to execute the operations.\n",
    "\n",
    "Please make sure to run the cells in the specified order to ensure proper execution of the Elasticsearch operations."
   ]
  },
  {
   "cell_type": "markdown",
   "id": "af1bc279-5f49-4e48-afc9-c9e4c5a566db",
   "metadata": {
    "tags": []
   },
   "source": [
    "## Prerequsite "
   ]
  },
  {
   "cell_type": "code",
   "execution_count": null,
   "id": "9892204d-7c2d-4c9f-9de0-8590e0c6bc4f",
   "metadata": {
    "tags": []
   },
   "outputs": [],
   "source": [
    "\n",
    "# SET log level\n",
    "# logging\n",
    "import logging\n",
    "logger = logging.getLogger()\n",
    "logger.setLevel(logging.WARN)\n",
    "logging.info(\"Prerequisite\")\n",
    "\n",
    "\n",
    "# extract credentials\n",
    "import configparser\n",
    "config = configparser.ConfigParser()\n",
    "config.read('elasticsearch.conf')\n",
    "es_host = config.get(\"data\", 'es_host') \n",
    "es_port = config.get(\"data\", 'es_port')\n",
    "es_user = config.get(\"data\", 'es_user') \n",
    "es_password = config.get(\"data\", 'es_password')\n",
    "\n",
    "\n",
    "# Update fedora\n",
    "!dnf update -y\n",
    "\n",
    "# Import ElasticSearchOperations class and initialized\n",
    "from benchmark_runner.common.elasticsearch.elasticsearch_operations import ElasticSearchOperations\n",
    "elasticsearch = ElasticSearchOperations(es_host=es_host,es_port=es_port,es_user=es_user,es_password=es_password)\n",
    "\n",
    "# Import ElasticSearchWidgets class and initialized\n",
    "from benchmark_runner.jupyterlab.templates.elasticsearch_operations.elasticsearch_widgets import ElasticSearchWidgets\n",
    "# Need elasticsearch object to get indexes\n",
    "elasticsearch_widgets = ElasticSearchWidgets(elasticsearch)\n",
    "# Display widgets\n",
    "elastic_index = elasticsearch_widgets.index_dropdown()\n",
    "elasticsearch_widgets.choose_datetime()\n"
   ]
  },
  {
   "cell_type": "markdown",
   "id": "639ada7a-3420-4cfd-971f-d87f3b98a223",
   "metadata": {
    "tags": []
   },
   "source": [
    "# << RUN ALL ABOVE TILL HERE && Select Index and Dates >>"
   ]
  },
  {
   "cell_type": "markdown",
   "id": "1f6bd81f-cb20-4661-847d-dbb13193edd5",
   "metadata": {
    "tags": []
   },
   "source": [
    "## Gets documents ids between start to end date"
   ]
  },
  {
   "cell_type": "code",
   "execution_count": null,
   "id": "08c9ea1b-f3b7-4dc9-b692-388b36a8c645",
   "metadata": {
    "tags": []
   },
   "outputs": [],
   "source": [
    "# Update input variables\n",
    "start_datetime = elasticsearch_widgets.get_start_datetime()\n",
    "end_datetime = elasticsearch_widgets.get_end_datetime()\n",
    "elastic_index = elasticsearch_widgets.get_elastic_index()\n",
    "ids_list = elasticsearch.get_index_ids_between_dates(index=elastic_index,start_datetime=start_datetime, end_datetime=end_datetime)\n",
    "logging.warning(f\"index '{elastic_index}': {len(ids_list)} documents\")"
   ]
  },
  {
   "cell_type": "markdown",
   "id": "f7fbaa0a-c144-45dc-8706-09447d7f4370",
   "metadata": {
    "tags": []
   },
   "source": [
    "## Fetch index data by id "
   ]
  },
  {
   "cell_type": "code",
   "execution_count": null,
   "id": "8f4e3194-bdb6-4b35-b37c-5982d537b2d2",
   "metadata": {
    "tags": []
   },
   "outputs": [],
   "source": [
    "elastic_index = elasticsearch_widgets.get_elastic_index()\n",
    "logging.info(\"Enter id:\")\n",
    "result = elasticsearch.get_elasticsearch_index_by_id(index=elastic_index, id='')\n",
    "logging.info(f\"result: {result}\")"
   ]
  },
  {
   "cell_type": "markdown",
   "id": "7e9304fa-518c-47a8-b8ca-5091dca04198",
   "metadata": {
    "tags": []
   },
   "source": [
    "## Delete documents ids between start to end date [Change cell below => code ]"
   ]
  },
  {
   "cell_type": "raw",
   "id": "7ad76f91-2a0d-4669-8908-ba98d8f0d0c3",
   "metadata": {
    "tags": []
   },
   "source": [
    "# Update input variables\n",
    "start_datetime = elasticsearch_widgets.get_start_datetime()\n",
    "end_datetime = elasticsearch_widgets.get_end_datetime()\n",
    "elastic_index = elasticsearch_widgets.get_elastic_index()\n",
    "ids_list = elasticsearch.get_index_ids_between_dates(index=elastic_index,start_datetime=start_datetime, end_datetime=end_datetime)\n",
    "# Caution: Enable below line in case of deletion\n",
    "## delete_result = elasticsearch.delete_index_ids_between_dates(index=elastic_index,start_datetime=start_datetime, end_datetime=end_datetime)\n",
    "logging.warning(f\"index '{elastic_index}': {len(ids_list)} documents were deleted\")"
   ]
  },
  {
   "cell_type": "code",
   "execution_count": null,
   "id": "e9f17bb2-ad42-495f-9f3b-cbabed9e42e6",
   "metadata": {},
   "outputs": [],
   "source": []
  }
 ],
 "metadata": {
  "kernelspec": {
   "display_name": "Python 3 (ipykernel)",
   "language": "python",
   "name": "python3"
  },
  "language_info": {
   "codemirror_mode": {
    "name": "ipython",
    "version": 3
   },
   "file_extension": ".py",
   "mimetype": "text/x-python",
   "name": "python",
   "nbconvert_exporter": "python",
   "pygments_lexer": "ipython3",
   "version": "3.11.3"
  }
 },
 "nbformat": 4,
 "nbformat_minor": 5
}
