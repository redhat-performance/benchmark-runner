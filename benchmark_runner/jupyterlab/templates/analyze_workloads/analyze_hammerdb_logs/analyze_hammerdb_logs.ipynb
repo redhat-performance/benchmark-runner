{
 "cells": [
  {
   "cell_type": "markdown",
   "id": "e2a8ed22-4615-4073-963d-9e18d591b375",
   "metadata": {
    "tags": []
   },
   "source": [
    "# Analyze Hammerdb Logs"
   ]
  },
  {
   "cell_type": "raw",
   "id": "550b3a69-e36b-4dfe-8ffb-c8de74701146",
   "metadata": {
    "tags": []
   },
   "source": [
    "This notebook performs the following tasks:\n",
    "\n",
    "1. Downloads vdbench logs from an S3 bucket.\n",
    "2. Display the results in Bokeh Graph.\n",
    "\n",
    "Please paste the S3_LOGS_URL in the dedicate field and click the '>>' button to proceed."
   ]
  },
  {
   "cell_type": "code",
   "execution_count": null,
   "id": "7487323b-5b4b-4606-b6fe-7f614609c699",
   "metadata": {
    "tags": []
   },
   "outputs": [],
   "source": [
    "# S3_LOGS_URLS = ['412URL', '413URL'] - for comparing 2 artifacts \n",
    "S3_LOGS_URLS = ['', '']\n",
    "# Compare versions/ database\n",
    "versions = ['4.12', '4.13']\n",
    "database = ['PostgreSQL', 'PostgreSQL']"
   ]
  },
  {
   "cell_type": "markdown",
   "id": "8008cf50-d0cd-486d-afc3-e9c5fe43433b",
   "metadata": {
    "tags": []
   },
   "source": [
    "# Prerequsite"
   ]
  },
  {
   "cell_type": "code",
   "execution_count": null,
   "id": "55c36e8c-8eb5-4b1d-b699-aecb5bcfbfc8",
   "metadata": {
    "jupyter": {
     "source_hidden": true
    },
    "tags": []
   },
   "outputs": [],
   "source": [
    "\n",
    "# SET log level\n",
    "# logging\n",
    "import logging\n",
    "logger = logging.getLogger()\n",
    "logger.setLevel(logging.WARN)\n",
    "logging.info(\"Prerequisite\")\n",
    "\n",
    "# extract credentials\n",
    "import configparser\n",
    "config = configparser.ConfigParser()\n",
    "config.read('logs.conf')\n",
    "username = config.get(\"data\", 'user') \n",
    "password = config.get(\"data\", 'password')\n",
    "\n",
    "\n",
    "# Update fedora\n",
    "!dnf update -y\n",
    "\n",
    "from benchmark_runner.jupyterlab.templates.logs_operations.logs_operations import LogsOperations\n",
    "from benchmark_runner.jupyterlab.templates.analyze_workloads.analyze_hammerdb_logs.analyze_hammerdb_logs import AnalyzeHammerdbLogs\n",
    "\n",
    "logs_operations_obj = []\n",
    "analyze_hammerdb_logs_obj = []\n",
    "\n",
    "#Logs operations\n",
    "for i, S3_LOGS_URL in enumerate(S3_LOGS_URLS):\n",
    "    logs_operations = LogsOperations(s3_logs_url=S3_LOGS_URL)\n",
    "    logs_operations_obj.append(logs_operations)\n",
    "    \n",
    "# Logs cleanup\n",
    "logs_operations_obj[0].cleanup()\n",
    "\n",
    "for i, S3_LOGS_URL in enumerate(S3_LOGS_URLS):\n",
    "    analyze_hammerdb_logs = AnalyzeHammerdbLogs(s3_logs_url=S3_LOGS_URL)\n",
    "    analyze_hammerdb_logs_obj.append(analyze_hammerdb_logs)\n",
    "\n",
    "# Output clean output display\n",
    "analyze_hammerdb_logs_obj[0].clear_output()\n"
   ]
  },
  {
   "cell_type": "markdown",
   "id": "7990b566-7ca2-4d87-8b3b-f8c5d5cf7f69",
   "metadata": {
    "tags": []
   },
   "source": [
    "## Download S3 logs"
   ]
  },
  {
   "cell_type": "code",
   "execution_count": null,
   "id": "7779d25a-e20c-4411-8c1c-e329812a3475",
   "metadata": {
    "tags": []
   },
   "outputs": [],
   "source": [
    "for i, S3_LOGS_URL in enumerate(S3_LOGS_URLS):\n",
    "    logs_operations_obj[i].download_s3_logs(username=username, password=password)"
   ]
  },
  {
   "cell_type": "markdown",
   "id": "8e9613e9-b7b8-4f76-b85a-4aa19240a3ae",
   "metadata": {
    "tags": []
   },
   "source": [
    "## Untar logs & chmod "
   ]
  },
  {
   "cell_type": "code",
   "execution_count": null,
   "id": "d0256f41-607f-4b0c-ba82-14ce0108bee3",
   "metadata": {
    "tags": []
   },
   "outputs": [],
   "source": [
    "for i, S3_LOGS_URL in enumerate(S3_LOGS_URLS):\n",
    "    logs_operations_obj[i].untar_and_chmod_logs()"
   ]
  },
  {
   "cell_type": "markdown",
   "id": "b9b08a76-79c9-4fa4-83f5-4dde26d06f1a",
   "metadata": {
    "tags": []
   },
   "source": [
    "# Get Hammerdb log file"
   ]
  },
  {
   "cell_type": "code",
   "execution_count": null,
   "id": "c3e5a818-4700-4714-80c8-32deadb41461",
   "metadata": {
    "tags": []
   },
   "outputs": [],
   "source": [
    "workload_log_files=[]\n",
    "for i, S3_LOGS_URL in enumerate(S3_LOGS_URLS):\n",
    "    workload_log_files.append(analyze_hammerdb_logs_obj[i].get_hammerdb_log_file())"
   ]
  },
  {
   "cell_type": "markdown",
   "id": "5e9b7dad-4fc2-40da-a3d8-c9c7250dce3f",
   "metadata": {
    "tags": []
   },
   "source": [
    "# Extract Hammerdb result"
   ]
  },
  {
   "cell_type": "code",
   "execution_count": null,
   "id": "ec428b9b-76d8-4963-8fca-b906ab9808ac",
   "metadata": {
    "tags": []
   },
   "outputs": [],
   "source": [
    "hammerdb_results=[]\n",
    "for i, S3_LOGS_URL in enumerate(S3_LOGS_URLS):\n",
    "    hammerdb_results.append(analyze_hammerdb_logs_obj[i].extract_hammerdb_result(workload_log_file=workload_log_files[i]))"
   ]
  },
  {
   "cell_type": "markdown",
   "id": "dfc4b13b-e0f0-4147-9466-45140036ce00",
   "metadata": {},
   "source": [
    "# Display Hammerdb result"
   ]
  },
  {
   "cell_type": "code",
   "execution_count": null,
   "id": "c877a890-2a75-4ec3-9550-8e279c1489ca",
   "metadata": {
    "tags": []
   },
   "outputs": [],
   "source": [
    "for i, S3_LOGS_URL in enumerate(S3_LOGS_URLS):\n",
    "    analyze_hammerdb_logs_obj[i].display_hammerdb_result(hammerdb_result=hammerdb_results[i], workload_log_file=workload_log_files[i])"
   ]
  },
  {
   "cell_type": "markdown",
   "id": "f2041c57-2c79-4cf3-91a4-3bbaeea1f186",
   "metadata": {},
   "source": [
    "# Comapare results"
   ]
  },
  {
   "cell_type": "code",
   "execution_count": null,
   "id": "45ca38e0-8865-4f13-8d81-3b97f91a5562",
   "metadata": {
    "tags": []
   },
   "outputs": [],
   "source": [
    "if len(S3_LOGS_URLS)>1:\n",
    "    analyze_hammerdb_logs_obj[0].compare_results(result1=hammerdb_results[0], result2=hammerdb_results[1], legend_label1=versions[0], legend_label2=versions[1], database=database[0])"
   ]
  },
  {
   "cell_type": "code",
   "execution_count": null,
   "id": "4a952d59-fdc6-4bd5-a1e0-c8524b654a83",
   "metadata": {},
   "outputs": [],
   "source": []
  }
 ],
 "metadata": {
  "kernelspec": {
   "display_name": "Python 3 (ipykernel)",
   "language": "python",
   "name": "python3"
  },
  "language_info": {
   "codemirror_mode": {
    "name": "ipython",
    "version": 3
   },
   "file_extension": ".py",
   "mimetype": "text/x-python",
   "name": "python",
   "nbconvert_exporter": "python",
   "pygments_lexer": "ipython3",
   "version": "3.11.4"
  }
 },
 "nbformat": 4,
 "nbformat_minor": 5
}
